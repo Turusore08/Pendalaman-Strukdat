{
 "cells": [
  {
   "cell_type": "markdown",
   "id": "2d857e9f",
   "metadata": {},
   "source": [
    "### **O(N^2)**"
   ]
  },
  {
   "cell_type": "code",
   "execution_count": 15,
   "id": "25ff8de8",
   "metadata": {},
   "outputs": [
    {
     "name": "stdout",
     "output_type": "stream",
     "text": [
      "25\n"
     ]
    }
   ],
   "source": [
    "def N2(n):\n",
    "    \"\"\"\n",
    "    O(N^2) algoritma untuk membuat persegi. Karena untuk membuat persegi,\n",
    "    kita perlu mengulangi setiap elemen sebanyak N kali, sehingga kompleksitasnya adalah O(N^2).\n",
    "    Dalam hal ini, kita akan mencetak pasangan dari indeks i dan j untuk setiap kombinasi\n",
    "    \"\"\"\n",
    "    count = 0\n",
    "    for i in range(n):\n",
    "        for j in range( n):\n",
    "            count += 1\n",
    "    \n",
    "    return count\n",
    "            \n",
    "\n",
    "print(N2(5))  # Output: 25, karena ada 5 * 5 kombinasi\n",
    "\n"
   ]
  },
  {
   "cell_type": "markdown",
   "id": "bae12538",
   "metadata": {},
   "source": [
    "### **O(N^3)**"
   ]
  },
  {
   "cell_type": "code",
   "execution_count": 16,
   "id": "7fdc5366",
   "metadata": {},
   "outputs": [
    {
     "name": "stdout",
     "output_type": "stream",
     "text": [
      "125\n"
     ]
    }
   ],
   "source": [
    "def N3(n):    \n",
    "    \"\"\"\n",
    "    O(N^3) algoritma untuk membuat kubus. Karena untuk membuat kubus,\n",
    "    kita perlu mengulangi setiap elemen sebanyak N^3 kali, sehingga kompleksitasnya adalah O(N^3).\n",
    "    Dalam hal ini, kita akan mencetak triplet dari indeks i, j, dan k untuk setiap kombinasi\n",
    "    \"\"\"\n",
    "\n",
    "    count = 0\n",
    "    for i in range(n):\n",
    "        for j in range(n):\n",
    "            for k in range(n):\n",
    "                count += 1\n",
    "\n",
    "    return count\n",
    "\n",
    "print(N3(5))  # Output: 125, karena ada 5 * 5 * 5 kombinasi"
   ]
  },
  {
   "cell_type": "markdown",
   "id": "175098bd",
   "metadata": {},
   "source": [
    "### **O(LogN)**"
   ]
  },
  {
   "cell_type": "code",
   "execution_count": 1,
   "id": "99eebab0",
   "metadata": {},
   "outputs": [
    {
     "name": "stdout",
     "output_type": "stream",
     "text": [
      "Logarithmic count: 3\n",
      "Logarithmic recursive count: 3\n"
     ]
    }
   ],
   "source": [
    "def logn(n):\n",
    "    \"\"\"\n",
    "    O(LogN) algoritma untuk mencari elemen dalam array yang sudah diurutkan.\n",
    "    Kita akan menggunakan metode pembagian untuk mencari elemen tertentu.\n",
    "    Dalam hal ini, kita akan mencetak indeks tengah dari array pada setiap iterasi\n",
    "    \"\"\"\n",
    "    \n",
    "    count = 0\n",
    "    while n > 0:\n",
    "        \n",
    "        n //= 2\n",
    "        count += 1\n",
    "    \n",
    "    print(f\"Logarithmic count: {count - 1}\")\n",
    "\n",
    "logn(8)\n",
    "\n",
    "\n",
    "def lognrekursif(n):\n",
    "    \"\"\"\n",
    "    O(LogN) algoritma rekursif untuk mencari elemen dalam array yang sudah diurutkan.\n",
    "    Kita akan menggunakan metode pembagian untuk mencari elemen tertentu.\n",
    "    Dalam hal ini, kita akan mencetak indeks tengah dari array pada setiap iterasi\n",
    "    \"\"\"\n",
    "    \n",
    "    if n <= 1:\n",
    "        return 0\n",
    "    \n",
    "    return 1 + lognrekursif(n // 2)\n",
    "\n",
    "print(f\"Logarithmic recursive count: {lognrekursif(8)}\")"
   ]
  },
  {
   "cell_type": "markdown",
   "id": "cbd63ec1",
   "metadata": {},
   "source": [
    "### **Binary Search**"
   ]
  },
  {
   "cell_type": "code",
   "execution_count": null,
   "id": "6b8b1c40",
   "metadata": {},
   "outputs": [
    {
     "name": "stdout",
     "output_type": "stream",
     "text": [
      "Binary Search result: 6\n"
     ]
    }
   ],
   "source": [
    "def BinarySearch(arr,target):\n",
    "    \"\"\"\n",
    "    O(LogN) algoritma untuk mencari elemen dalam array yang sudah diurutkan menggunakan Binary Search.\n",
    "    \"\"\"\n",
    "\n",
    "    left, right = 0, len(arr) - 1\n",
    "    \n",
    "    while left <= right:\n",
    "        mid = (left + right) // 2\n",
    "        \n",
    "        if arr[mid] == target:\n",
    "            return mid\n",
    "        elif arr[mid] < target:\n",
    "            left = mid + 1\n",
    "        else:\n",
    "            right = mid - 1\n",
    "            \n",
    "    return -1\n",
    "\n",
    "arr = [1, 2, 3, 4, 5, 6, 7, 8, 9]\n",
    "target = 7\n",
    "print(f\"Binary Search result: {BinarySearch(arr, target)}\")  # Output: 6, karena 7 ada di indeks ke-6"
   ]
  },
  {
   "cell_type": "markdown",
   "id": "3fa66ff0",
   "metadata": {},
   "source": [
    "### **O(nlogn)**"
   ]
  },
  {
   "cell_type": "code",
   "execution_count": 7,
   "id": "1210ea74",
   "metadata": {},
   "outputs": [
    {
     "name": "stdout",
     "output_type": "stream",
     "text": [
      "[1, 12, 13, 15, 16]\n",
      "N LogN count: 24\n"
     ]
    }
   ],
   "source": [
    "def merge_sort(arr):\n",
    "    \"\"\"\n",
    "    O(N LogN) algoritma untuk mengurutkan array menggunakan Merge Sort.\n",
    "    Kita akan membagi array menjadi dua bagian, mengurutkan masing-masing bagian,\n",
    "    dan kemudian menggabungkannya kembali.\n",
    "    \"\"\"\n",
    "    \n",
    "    if len(arr) <= 1:\n",
    "        return arr\n",
    "    \n",
    "    mid = len(arr) // 2\n",
    "    left = arr[:mid]\n",
    "    right = arr[mid:]\n",
    "    \n",
    "    return merge(merge_sort(left),merge_sort(right))\n",
    "\n",
    "def merge(leftarr,rightarr):\n",
    "    result = []\n",
    "    leftindex = 0\n",
    "    rightindex = 0\n",
    "\n",
    "    while leftindex < len(leftarr) and rightindex < len(rightarr):\n",
    "        if leftarr[leftindex] < rightarr[rightindex]:\n",
    "            result.append(leftarr[leftindex])\n",
    "            leftindex += 1\n",
    "        else :\n",
    "            result.append(rightarr[rightindex])\n",
    "            rightindex += 1\n",
    "    \n",
    "    result.extend(leftarr[leftindex:])\n",
    "    result.extend(rightarr[rightindex:])\n",
    "    return result\n",
    "\n",
    "\n",
    "\n",
    "print(merge_sort(arr=[1,13,12,16,15]))\n",
    "\n",
    "def nlogn(n):\n",
    "    \"\"\"\n",
    "    O(N LogN) algoritma untuk for loop di dalam while loop.\n",
    "    \"\"\"\n",
    "    \n",
    "    y = n\n",
    "    count = 0\n",
    "    while n > 1 :\n",
    "        n //= 2\n",
    "        for i in range(y):\n",
    "            count += 1\n",
    "\n",
    "    print(f\"N LogN count: {count}\")\n",
    "\n",
    "nlogn(8)  # Output: 24, karena ada 8 * 3 iterasi (8 + 4 + 2 + 1) dan 8log(8) = 24"
   ]
  }
 ],
 "metadata": {
  "kernelspec": {
   "display_name": "base",
   "language": "python",
   "name": "python3"
  },
  "language_info": {
   "codemirror_mode": {
    "name": "ipython",
    "version": 3
   },
   "file_extension": ".py",
   "mimetype": "text/x-python",
   "name": "python",
   "nbconvert_exporter": "python",
   "pygments_lexer": "ipython3",
   "version": "3.13.5"
  }
 },
 "nbformat": 4,
 "nbformat_minor": 5
}
