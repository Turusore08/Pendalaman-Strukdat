{
 "cells": [
  {
   "cell_type": "code",
   "execution_count": null,
   "id": "09834590",
   "metadata": {},
   "outputs": [],
   "source": [
    "class Node :\n",
    "    def __init__(self,val,left=None,right=None):\n",
    "        self.val = val\n",
    "        self.left = left\n",
    "        self.right =right\n",
    "\n",
    "    def insert(self,data):\n",
    "        if data == self.val:\n",
    "            return\n",
    "        if data < self.val:\n",
    "            if self.left:\n",
    "                self.left.insert(data)\n",
    "            else:\n",
    "                self.left = Node(data)\n",
    "        else:\n",
    "            if self.right:\n",
    "                self.right.insert(data)\n",
    "            else:\n",
    "                self.right = Node(data)\n",
    "    def search(self,val):\n",
    "        if val == self.val:\n",
    "            return True\n",
    "        if val < self.val:\n",
    "            if self.left:\n",
    "                self.left.search(val)\n",
    "            else:\n",
    "                False\n",
    "        else :\n",
    "            if self.right:\n",
    "                self.right.search(val)\n",
    "            else :\n",
    "                False\n"
   ]
  },
  {
   "cell_type": "code",
   "execution_count": 9,
   "id": "0d7de2fb",
   "metadata": {},
   "outputs": [],
   "source": [
    "def pre_order_transversal(tree):\n",
    "    if tree is None:\n",
    "        return []\n",
    "    return [tree.val] + pre_order_transversal(tree.left) + pre_order_transversal(tree.right)"
   ]
  },
  {
   "cell_type": "code",
   "execution_count": 10,
   "id": "7a21e705",
   "metadata": {},
   "outputs": [
    {
     "name": "stdout",
     "output_type": "stream",
     "text": [
      "[5, 1, 4, 3, 7, 6, 9]\n"
     ]
    }
   ],
   "source": [
    "root = Node(5)\n",
    "\n",
    "list1 =[1,7,6,4,3,9]\n",
    "\n",
    "for _ in list1:\n",
    "    root.insert(_)\n",
    "\n",
    "print(pre_order_transversal(root))"
   ]
  }
 ],
 "metadata": {
  "kernelspec": {
   "display_name": "base",
   "language": "python",
   "name": "python3"
  },
  "language_info": {
   "codemirror_mode": {
    "name": "ipython",
    "version": 3
   },
   "file_extension": ".py",
   "mimetype": "text/x-python",
   "name": "python",
   "nbconvert_exporter": "python",
   "pygments_lexer": "ipython3",
   "version": "3.13.5"
  }
 },
 "nbformat": 4,
 "nbformat_minor": 5
}
